{
  "cells": [
    {
      "cell_type": "code",
      "execution_count": 1,
      "metadata": {
        "id": "12rVk_EHbrGf"
      },
      "outputs": [],
      "source": [
        "import pandas as pd\n",
        "import numpy as np\n",
        "import matplotlib.pyplot as plt\n",
        "import networkx as nx"
      ]
    },
    {
      "cell_type": "code",
      "execution_count": 2,
      "metadata": {
        "colab": {
          "base_uri": "https://localhost:8080/",
          "height": 300
        },
        "id": "V9VYOsay4o1a",
        "outputId": "9aaf4520-e75c-4327-ac09-ebd2111d70b3"
      },
      "outputs": [
        {
          "data": {
            "text/html": [
              "<div>\n",
              "<style scoped>\n",
              "    .dataframe tbody tr th:only-of-type {\n",
              "        vertical-align: middle;\n",
              "    }\n",
              "\n",
              "    .dataframe tbody tr th {\n",
              "        vertical-align: top;\n",
              "    }\n",
              "\n",
              "    .dataframe thead th {\n",
              "        text-align: right;\n",
              "    }\n",
              "</style>\n",
              "<table border=\"1\" class=\"dataframe\">\n",
              "  <thead>\n",
              "    <tr style=\"text-align: right;\">\n",
              "      <th></th>\n",
              "      <th>source</th>\n",
              "      <th>target</th>\n",
              "      <th>links</th>\n",
              "    </tr>\n",
              "  </thead>\n",
              "  <tbody>\n",
              "    <tr>\n",
              "      <th>0</th>\n",
              "      <td>수학</td>\n",
              "      <td>심화수학_2</td>\n",
              "      <td>3</td>\n",
              "    </tr>\n",
              "    <tr>\n",
              "      <th>1</th>\n",
              "      <td>수학</td>\n",
              "      <td>수학_1</td>\n",
              "      <td>3</td>\n",
              "    </tr>\n",
              "    <tr>\n",
              "      <th>2</th>\n",
              "      <td>수학</td>\n",
              "      <td>수학_2</td>\n",
              "      <td>3</td>\n",
              "    </tr>\n",
              "    <tr>\n",
              "      <th>3</th>\n",
              "      <td>수학</td>\n",
              "      <td>심화수학_1</td>\n",
              "      <td>3</td>\n",
              "    </tr>\n",
              "    <tr>\n",
              "      <th>4</th>\n",
              "      <td>수학_1</td>\n",
              "      <td>경제수학</td>\n",
              "      <td>3</td>\n",
              "    </tr>\n",
              "    <tr>\n",
              "      <th>5</th>\n",
              "      <td>수학_1</td>\n",
              "      <td>미적분</td>\n",
              "      <td>3</td>\n",
              "    </tr>\n",
              "    <tr>\n",
              "      <th>6</th>\n",
              "      <td>수학_1</td>\n",
              "      <td>대수</td>\n",
              "      <td>1</td>\n",
              "    </tr>\n",
              "    <tr>\n",
              "      <th>7</th>\n",
              "      <td>수학_1</td>\n",
              "      <td>해석</td>\n",
              "      <td>1</td>\n",
              "    </tr>\n",
              "    <tr>\n",
              "      <th>8</th>\n",
              "      <td>미적분</td>\n",
              "      <td>해석</td>\n",
              "      <td>1</td>\n",
              "    </tr>\n",
              "    <tr>\n",
              "      <th>9</th>\n",
              "      <td>수학_2</td>\n",
              "      <td>해석</td>\n",
              "      <td>1</td>\n",
              "    </tr>\n",
              "    <tr>\n",
              "      <th>10</th>\n",
              "      <td>수학_2</td>\n",
              "      <td>심화수학_1</td>\n",
              "      <td>3</td>\n",
              "    </tr>\n",
              "    <tr>\n",
              "      <th>11</th>\n",
              "      <td>심화수학_1</td>\n",
              "      <td>해석</td>\n",
              "      <td>1</td>\n",
              "    </tr>\n",
              "    <tr>\n",
              "      <th>12</th>\n",
              "      <td>심화수학_2</td>\n",
              "      <td>해석</td>\n",
              "      <td>1</td>\n",
              "    </tr>\n",
              "    <tr>\n",
              "      <th>13</th>\n",
              "      <td>심화수학_1</td>\n",
              "      <td>심화수학_2</td>\n",
              "      <td>3</td>\n",
              "    </tr>\n",
              "  </tbody>\n",
              "</table>\n",
              "</div>"
            ],
            "text/plain": [
              "    source  target  links\n",
              "0       수학  심화수학_2      3\n",
              "1       수학    수학_1      3\n",
              "2       수학    수학_2      3\n",
              "3       수학  심화수학_1      3\n",
              "4     수학_1    경제수학      3\n",
              "5     수학_1     미적분      3\n",
              "6     수학_1      대수      1\n",
              "7     수학_1      해석      1\n",
              "8      미적분      해석      1\n",
              "9     수학_2      해석      1\n",
              "10    수학_2  심화수학_1      3\n",
              "11  심화수학_1      해석      1\n",
              "12  심화수학_2      해석      1\n",
              "13  심화수학_1  심화수학_2      3"
            ]
          },
          "execution_count": 2,
          "metadata": {},
          "output_type": "execute_result"
        }
      ],
      "source": [
        "df_edges = pd.DataFrame({\n",
        "    'source': ['수학', '수학', '수학', '수학', '수학_1', '수학_1', '수학_1', '수학_1', '미적분', '수학_2', '수학_2', '심화수학_1', '심화수학_2', '심화수학_1'],\n",
        "    'target': ['심화수학_2', '수학_1', '수학_2', '심화수학_1', '경제수학', '미적분', '대수', '해석', '해석', '해석', '심화수학_1', '해석', '해석', '심화수학_2'],\n",
        "    'links': [3, 3, 3, 3, 3, 3, 1, 1, 1, 1, 3, 1, 1, 3]})\n",
        "df_edges"
      ]
    },
    {
      "cell_type": "code",
      "execution_count": 3,
      "metadata": {
        "colab": {
          "base_uri": "https://localhost:8080/",
          "height": 332
        },
        "id": "8XsT3GEI5f94",
        "outputId": "b891aae1-d404-429e-d6ce-50ff1c5b70a7"
      },
      "outputs": [
        {
          "data": {
            "text/html": [
              "<div>\n",
              "<style scoped>\n",
              "    .dataframe tbody tr th:only-of-type {\n",
              "        vertical-align: middle;\n",
              "    }\n",
              "\n",
              "    .dataframe tbody tr th {\n",
              "        vertical-align: top;\n",
              "    }\n",
              "\n",
              "    .dataframe thead th {\n",
              "        text-align: right;\n",
              "    }\n",
              "</style>\n",
              "<table border=\"1\" class=\"dataframe\">\n",
              "  <thead>\n",
              "    <tr style=\"text-align: right;\">\n",
              "      <th></th>\n",
              "      <th>name</th>\n",
              "      <th>category</th>\n",
              "    </tr>\n",
              "  </thead>\n",
              "  <tbody>\n",
              "    <tr>\n",
              "      <th>0</th>\n",
              "      <td>수학</td>\n",
              "      <td>subject</td>\n",
              "    </tr>\n",
              "    <tr>\n",
              "      <th>1</th>\n",
              "      <td>수학_1</td>\n",
              "      <td>subject</td>\n",
              "    </tr>\n",
              "    <tr>\n",
              "      <th>2</th>\n",
              "      <td>수학_2</td>\n",
              "      <td>subject</td>\n",
              "    </tr>\n",
              "    <tr>\n",
              "      <th>3</th>\n",
              "      <td>미적분</td>\n",
              "      <td>subject</td>\n",
              "    </tr>\n",
              "    <tr>\n",
              "      <th>4</th>\n",
              "      <td>심화수학_1</td>\n",
              "      <td>subject</td>\n",
              "    </tr>\n",
              "    <tr>\n",
              "      <th>5</th>\n",
              "      <td>심화수학_2</td>\n",
              "      <td>subject</td>\n",
              "    </tr>\n",
              "    <tr>\n",
              "      <th>6</th>\n",
              "      <td>경제수학</td>\n",
              "      <td>subject</td>\n",
              "    </tr>\n",
              "    <tr>\n",
              "      <th>7</th>\n",
              "      <td>대수</td>\n",
              "      <td>category</td>\n",
              "    </tr>\n",
              "    <tr>\n",
              "      <th>8</th>\n",
              "      <td>해석</td>\n",
              "      <td>category</td>\n",
              "    </tr>\n",
              "  </tbody>\n",
              "</table>\n",
              "</div>"
            ],
            "text/plain": [
              "     name  category\n",
              "0      수학   subject\n",
              "1    수학_1   subject\n",
              "2    수학_2   subject\n",
              "3     미적분   subject\n",
              "4  심화수학_1   subject\n",
              "5  심화수학_2   subject\n",
              "6    경제수학   subject\n",
              "7      대수  category\n",
              "8      해석  category"
            ]
          },
          "execution_count": 3,
          "metadata": {},
          "output_type": "execute_result"
        }
      ],
      "source": [
        "df_nodes = pd.DataFrame({\n",
        "    'name': ['수학', '수학_1', '수학_2', '미적분', '심화수학_1', '심화수학_2', '경제수학', '대수', '해석'],\n",
        "    'category': ['subject', 'subject', 'subject', 'subject', 'subject', 'subject', 'subject', 'category', 'category']\n",
        "})\n",
        "df_nodes"
      ]
    },
    {
      "cell_type": "code",
      "execution_count": 4,
      "metadata": {
        "colab": {
          "base_uri": "https://localhost:8080/",
          "height": 332
        },
        "id": "p9esgWKy6fdI",
        "outputId": "eb99368c-8cc1-4fec-c68f-d99255917065"
      },
      "outputs": [
        {
          "data": {
            "text/html": [
              "<div>\n",
              "<style scoped>\n",
              "    .dataframe tbody tr th:only-of-type {\n",
              "        vertical-align: middle;\n",
              "    }\n",
              "\n",
              "    .dataframe tbody tr th {\n",
              "        vertical-align: top;\n",
              "    }\n",
              "\n",
              "    .dataframe thead th {\n",
              "        text-align: right;\n",
              "    }\n",
              "</style>\n",
              "<table border=\"1\" class=\"dataframe\">\n",
              "  <thead>\n",
              "    <tr style=\"text-align: right;\">\n",
              "      <th></th>\n",
              "      <th>name</th>\n",
              "      <th>category</th>\n",
              "      <th>node_color</th>\n",
              "      <th>node_size</th>\n",
              "    </tr>\n",
              "  </thead>\n",
              "  <tbody>\n",
              "    <tr>\n",
              "      <th>0</th>\n",
              "      <td>수학</td>\n",
              "      <td>subject</td>\n",
              "      <td>lightsteelblue</td>\n",
              "      <td>800</td>\n",
              "    </tr>\n",
              "    <tr>\n",
              "      <th>1</th>\n",
              "      <td>수학_1</td>\n",
              "      <td>subject</td>\n",
              "      <td>lightsteelblue</td>\n",
              "      <td>1000</td>\n",
              "    </tr>\n",
              "    <tr>\n",
              "      <th>2</th>\n",
              "      <td>수학_2</td>\n",
              "      <td>subject</td>\n",
              "      <td>lightsteelblue</td>\n",
              "      <td>600</td>\n",
              "    </tr>\n",
              "    <tr>\n",
              "      <th>3</th>\n",
              "      <td>미적분</td>\n",
              "      <td>subject</td>\n",
              "      <td>lightsteelblue</td>\n",
              "      <td>400</td>\n",
              "    </tr>\n",
              "    <tr>\n",
              "      <th>4</th>\n",
              "      <td>심화수학_1</td>\n",
              "      <td>subject</td>\n",
              "      <td>lightsteelblue</td>\n",
              "      <td>800</td>\n",
              "    </tr>\n",
              "    <tr>\n",
              "      <th>5</th>\n",
              "      <td>심화수학_2</td>\n",
              "      <td>subject</td>\n",
              "      <td>lightsteelblue</td>\n",
              "      <td>600</td>\n",
              "    </tr>\n",
              "    <tr>\n",
              "      <th>6</th>\n",
              "      <td>경제수학</td>\n",
              "      <td>subject</td>\n",
              "      <td>lightsteelblue</td>\n",
              "      <td>200</td>\n",
              "    </tr>\n",
              "    <tr>\n",
              "      <th>7</th>\n",
              "      <td>대수</td>\n",
              "      <td>category</td>\n",
              "      <td>lightcoral</td>\n",
              "      <td>200</td>\n",
              "    </tr>\n",
              "    <tr>\n",
              "      <th>8</th>\n",
              "      <td>해석</td>\n",
              "      <td>category</td>\n",
              "      <td>lightcoral</td>\n",
              "      <td>1000</td>\n",
              "    </tr>\n",
              "  </tbody>\n",
              "</table>\n",
              "</div>"
            ],
            "text/plain": [
              "     name  category      node_color  node_size\n",
              "0      수학   subject  lightsteelblue        800\n",
              "1    수학_1   subject  lightsteelblue       1000\n",
              "2    수학_2   subject  lightsteelblue        600\n",
              "3     미적분   subject  lightsteelblue        400\n",
              "4  심화수학_1   subject  lightsteelblue        800\n",
              "5  심화수학_2   subject  lightsteelblue        600\n",
              "6    경제수학   subject  lightsteelblue        200\n",
              "7      대수  category      lightcoral        200\n",
              "8      해석  category      lightcoral       1000"
            ]
          },
          "execution_count": 4,
          "metadata": {},
          "output_type": "execute_result"
        }
      ],
      "source": [
        "node_colors = {'subject': 'lightsteelblue', 'category': 'lightcoral'}\n",
        "df_nodes['node_color'] = df_nodes['category'].map(node_colors)\n",
        "node_size = {}\n",
        "for node in df_nodes['name']:\n",
        "  freq = (list(df_edges['source']).count(node)+list(df_edges['target']).count(node))*200\n",
        "  node_size[node] = freq\n",
        "df_nodes['node_size'] = df_nodes['name'].map(node_size)\n",
        "df_nodes"
      ]
    },
    {
      "cell_type": "code",
      "execution_count": 5,
      "metadata": {
        "id": "EhlCEbhz6zpW"
      },
      "outputs": [],
      "source": [
        "g = nx.from_pandas_edgelist(df_edges, source = 'source', target = 'target', edge_attr = 'links')\n",
        "nodes_attr = df_nodes.set_index('name').to_dict(orient = 'index')\n",
        "nx.set_node_attributes(g, nodes_attr)"
      ]
    },
    {
      "cell_type": "code",
      "execution_count": 6,
      "metadata": {
        "colab": {
          "base_uri": "https://localhost:8080/"
        },
        "id": "GDNzRqco7xT8",
        "outputId": "cd6252be-9825-4eaa-eccd-bd78b963f52a"
      },
      "outputs": [
        {
          "name": "stdout",
          "output_type": "stream",
          "text": [
            "['수학', '심화수학_2', '수학_1', '수학_2', '심화수학_1', '경제수학', '미적분', '대수', '해석']\n",
            "{'category': 'subject', 'node_color': 'lightsteelblue', 'node_size': 800}\n",
            "{'category': 'subject', 'node_color': 'lightsteelblue', 'node_size': 600}\n",
            "{'category': 'subject', 'node_color': 'lightsteelblue', 'node_size': 1000}\n",
            "{'category': 'subject', 'node_color': 'lightsteelblue', 'node_size': 600}\n",
            "{'category': 'subject', 'node_color': 'lightsteelblue', 'node_size': 800}\n",
            "{'category': 'subject', 'node_color': 'lightsteelblue', 'node_size': 200}\n",
            "{'category': 'subject', 'node_color': 'lightsteelblue', 'node_size': 400}\n",
            "{'category': 'category', 'node_color': 'lightcoral', 'node_size': 200}\n",
            "{'category': 'category', 'node_color': 'lightcoral', 'node_size': 1000}\n"
          ]
        }
      ],
      "source": [
        "print(g.nodes)\n",
        "for n in g.nodes:\n",
        "  print(g.nodes[n])"
      ]
    },
    {
      "cell_type": "code",
      "execution_count": 7,
      "metadata": {
        "colab": {
          "base_uri": "https://localhost:8080/",
          "height": 718
        },
        "id": "nbtgSMs27HzP",
        "outputId": "d0c893fd-7174-49c7-fc6e-55a3156fd164"
      },
      "outputs": [
        {
          "data": {
            "text/plain": [
              "[]"
            ]
          },
          "execution_count": 7,
          "metadata": {},
          "output_type": "execute_result"
        },
        {
          "data": {
            "image/png": "[encoded data removed]",
            "text/plain": [
              "<Figure size 1000x1000 with 1 Axes>"
            ]
          },
          "metadata": {},
          "output_type": "display_data"
        }
      ],
      "source": [
        "plt.figure(figsize=(10,10)) \n",
        "nx.draw_networkx(g, \n",
        "    pos = nx.kamada_kawai_layout(g, weight = 'links'), \n",
        "    node_size = [g.nodes[n]['node_size'] for n in g.nodes], \n",
        "    node_color = [g.nodes[n]['node_color'] for n in g.nodes],\n",
        "    width = [g.edges[e]['links'] for e in g.edges],\n",
        "    with_labels = True, \n",
        "    font_family = 'NanumGothic')\n",
        "plt.plot()"
      ]
    },
    {
      "cell_type": "code",
      "execution_count": 8,
      "metadata": {
        "colab": {
          "base_uri": "https://localhost:8080/"
        },
        "id": "l8G9KDMS7Q7u",
        "outputId": "ee572a0b-4bc0-448f-d6d4-81fb21baf01e"
      },
      "outputs": [
        {
          "data": {
            "image/png": "[encoded data removed]",
            "text/plain": [
              "<Figure size 640x480 with 1 Axes>"
            ]
          },
          "metadata": {},
          "output_type": "display_data"
        }
      ],
      "source": [
        "nx.draw(g, \n",
        "    pos = nx.spring_layout(g, weight = 'links'), \n",
        "    node_size = [g.nodes[n]['node_size'] for n in g.nodes], \n",
        "    node_color = [g.nodes[n]['node_color'] for n in g.nodes],\n",
        "    width = [g.edges[e]['links'] for e in g.edges],\n",
        "    with_labels = True,\n",
        "    font_family = 'NanumGothic')"
      ]
    },
    {
      "cell_type": "code",
      "execution_count": 9,
      "metadata": {},
      "outputs": [
        {
          "data": {
            "image/png": "[encoded data removed]",
            "text/plain": [
              "<Figure size 640x480 with 1 Axes>"
            ]
          },
          "metadata": {},
          "output_type": "display_data"
        }
      ],
      "source": [
        "G = nx.Graph()\n",
        "G.add_edge(1,2) \n",
        "nx.draw(G)"
      ]
    },
    {
      "cell_type": "code",
      "execution_count": 10,
      "metadata": {
        "colab": {
          "base_uri": "https://localhost:8080/",
          "height": 815
        },
        "id": "P0oOiRYAb_SU",
        "outputId": "9ec42190-132f-4b00-9882-32acde8dee18"
      },
      "outputs": [
        {
          "data": {
            "text/html": [
              "<div>\n",
              "<style scoped>\n",
              "    .dataframe tbody tr th:only-of-type {\n",
              "        vertical-align: middle;\n",
              "    }\n",
              "\n",
              "    .dataframe tbody tr th {\n",
              "        vertical-align: top;\n",
              "    }\n",
              "\n",
              "    .dataframe thead th {\n",
              "        text-align: right;\n",
              "    }\n",
              "</style>\n",
              "<table border=\"1\" class=\"dataframe\">\n",
              "  <thead>\n",
              "    <tr style=\"text-align: right;\">\n",
              "      <th></th>\n",
              "      <th>job</th>\n",
              "      <th>job_id</th>\n",
              "      <th>job_summary</th>\n",
              "      <th>preparation</th>\n",
              "      <th>required_certificates</th>\n",
              "      <th>major</th>\n",
              "      <th>major_code</th>\n",
              "    </tr>\n",
              "  </thead>\n",
              "  <tbody>\n",
              "    <tr>\n",
              "      <th>0</th>\n",
              "      <td>가구제조,수리원</td>\n",
              "      <td>159</td>\n",
              "      <td>- 가구제조ㆍ수리원은 여러 형태의 가구를 가공, 제작하고, 가구의 파손된 부위를 수...</td>\n",
              "      <td>- 가구제조, 수리원이 되기 위해서는 학력에 제한은 없으나, 입직 후 입직 후 업무...</td>\n",
              "      <td>가구제작기능사, 목공예기능사</td>\n",
              "      <td>NaN</td>\n",
              "      <td>NaN</td>\n",
              "    </tr>\n",
              "    <tr>\n",
              "      <th>1</th>\n",
              "      <td>가구조립 및 검사원</td>\n",
              "      <td>1152</td>\n",
              "      <td>- 가구조립 및 검사원은 여러 형태의 가구를 조립하고 조립을 완성한 가구제품의 품질...</td>\n",
              "      <td>- 가구조립 및 검사원이 되기 위해서는 고등학교 졸업 이상의 학력이 요구된다.</td>\n",
              "      <td>가구제작기능사, 목공예기능사</td>\n",
              "      <td>NaN</td>\n",
              "      <td>NaN</td>\n",
              "    </tr>\n",
              "    <tr>\n",
              "      <th>2</th>\n",
              "      <td>가사도우미</td>\n",
              "      <td>352</td>\n",
              "      <td>- 가사도우미는 주부를 대신하여 집안 청소, 요리, 세탁, 다림질 등의 가사 노동을...</td>\n",
              "      <td>- 가사도우미가 되기 위해 요구되는 학력의 제한은 없다.</td>\n",
              "      <td>NaN</td>\n",
              "      <td>NaN</td>\n",
              "      <td>NaN</td>\n",
              "    </tr>\n",
              "    <tr>\n",
              "      <th>3</th>\n",
              "      <td>가상현실전문가</td>\n",
              "      <td>1093</td>\n",
              "      <td>- 가상현실전문가는 3차원모델링(3D) 및 가상현실모델링언어(VRML)등의 기술을 ...</td>\n",
              "      <td>- 가상현실전문가가 되기 위해서는 전문대 및 대학교에서 전자공학과, 정보통신공학과,...</td>\n",
              "      <td>정보처리기사, 시각디자인산업기사, 시각디자인기사, 컴퓨터그래픽스운용기능사</td>\n",
              "      <td>컴퓨터공학과</td>\n",
              "      <td>569.0</td>\n",
              "    </tr>\n",
              "    <tr>\n",
              "      <th>4</th>\n",
              "      <td>가상현실전문가</td>\n",
              "      <td>1093</td>\n",
              "      <td>- 가상현실전문가는 3차원모델링(3D) 및 가상현실모델링언어(VRML)등의 기술을 ...</td>\n",
              "      <td>- 가상현실전문가가 되기 위해서는 전문대 및 대학교에서 전자공학과, 정보통신공학과,...</td>\n",
              "      <td>정보처리기사, 시각디자인산업기사, 시각디자인기사, 컴퓨터그래픽스운용기능사</td>\n",
              "      <td>컴퓨터과학과</td>\n",
              "      <td>570.0</td>\n",
              "    </tr>\n",
              "    <tr>\n",
              "      <th>...</th>\n",
              "      <td>...</td>\n",
              "      <td>...</td>\n",
              "      <td>...</td>\n",
              "      <td>...</td>\n",
              "      <td>...</td>\n",
              "      <td>...</td>\n",
              "      <td>...</td>\n",
              "    </tr>\n",
              "    <tr>\n",
              "      <th>1697</th>\n",
              "      <td>IT컨설턴트</td>\n",
              "      <td>450</td>\n",
              "      <td>- IT컨설턴트는 기업의 인적, 물적 자원 및 모든 조건에 관련된 자료를 수집·분석...</td>\n",
              "      <td>- IT컨설턴트가 되기 위해서는 대학이나 대학원, 전문대학에서 전자공학, 컴퓨터공학...</td>\n",
              "      <td>정보처리기능사, 정보처리산업기사, 정보처리기사, 정보관리기술사, 정보통신산업기사, ...</td>\n",
              "      <td>경영학과</td>\n",
              "      <td>23.0</td>\n",
              "    </tr>\n",
              "    <tr>\n",
              "      <th>1698</th>\n",
              "      <td>IT컨설턴트</td>\n",
              "      <td>450</td>\n",
              "      <td>- IT컨설턴트는 기업의 인적, 물적 자원 및 모든 조건에 관련된 자료를 수집·분석...</td>\n",
              "      <td>- IT컨설턴트가 되기 위해서는 대학이나 대학원, 전문대학에서 전자공학, 컴퓨터공학...</td>\n",
              "      <td>정보처리기능사, 정보처리산업기사, 정보처리기사, 정보관리기술사, 정보통신산업기사, ...</td>\n",
              "      <td>스마트정보과</td>\n",
              "      <td>489.0</td>\n",
              "    </tr>\n",
              "    <tr>\n",
              "      <th>1699</th>\n",
              "      <td>IT컨설턴트</td>\n",
              "      <td>450</td>\n",
              "      <td>- IT컨설턴트는 기업의 인적, 물적 자원 및 모든 조건에 관련된 자료를 수집·분석...</td>\n",
              "      <td>- IT컨설턴트가 되기 위해서는 대학이나 대학원, 전문대학에서 전자공학, 컴퓨터공학...</td>\n",
              "      <td>정보처리기능사, 정보처리산업기사, 정보처리기사, 정보관리기술사, 정보통신산업기사, ...</td>\n",
              "      <td>인터넷정보학과</td>\n",
              "      <td>486.0</td>\n",
              "    </tr>\n",
              "    <tr>\n",
              "      <th>1700</th>\n",
              "      <td>IT컨설턴트</td>\n",
              "      <td>450</td>\n",
              "      <td>- IT컨설턴트는 기업의 인적, 물적 자원 및 모든 조건에 관련된 자료를 수집·분석...</td>\n",
              "      <td>- IT컨설턴트가 되기 위해서는 대학이나 대학원, 전문대학에서 전자공학, 컴퓨터공학...</td>\n",
              "      <td>정보처리기능사, 정보처리산업기사, 정보처리기사, 정보관리기술사, 정보통신산업기사, ...</td>\n",
              "      <td>정보통신공학과</td>\n",
              "      <td>490.0</td>\n",
              "    </tr>\n",
              "    <tr>\n",
              "      <th>1701</th>\n",
              "      <td>IT컨설턴트</td>\n",
              "      <td>450</td>\n",
              "      <td>- IT컨설턴트는 기업의 인적, 물적 자원 및 모든 조건에 관련된 자료를 수집·분석...</td>\n",
              "      <td>- IT컨설턴트가 되기 위해서는 대학이나 대학원, 전문대학에서 전자공학, 컴퓨터공학...</td>\n",
              "      <td>정보처리기능사, 정보처리산업기사, 정보처리기사, 정보관리기술사, 정보통신산업기사, ...</td>\n",
              "      <td>정보통신과</td>\n",
              "      <td>491.0</td>\n",
              "    </tr>\n",
              "  </tbody>\n",
              "</table>\n",
              "<p>1702 rows × 7 columns</p>\n",
              "</div>"
            ],
            "text/plain": [
              "             job  job_id                                        job_summary  \\\n",
              "0       가구제조,수리원     159  - 가구제조ㆍ수리원은 여러 형태의 가구를 가공, 제작하고, 가구의 파손된 부위를 수...   \n",
              "1     가구조립 및 검사원    1152  - 가구조립 및 검사원은 여러 형태의 가구를 조립하고 조립을 완성한 가구제품의 품질...   \n",
              "2          가사도우미     352  - 가사도우미는 주부를 대신하여 집안 청소, 요리, 세탁, 다림질 등의 가사 노동을...   \n",
              "3        가상현실전문가    1093  - 가상현실전문가는 3차원모델링(3D) 및 가상현실모델링언어(VRML)등의 기술을 ...   \n",
              "4        가상현실전문가    1093  - 가상현실전문가는 3차원모델링(3D) 및 가상현실모델링언어(VRML)등의 기술을 ...   \n",
              "...          ...     ...                                                ...   \n",
              "1697      IT컨설턴트     450  - IT컨설턴트는 기업의 인적, 물적 자원 및 모든 조건에 관련된 자료를 수집·분석...   \n",
              "1698      IT컨설턴트     450  - IT컨설턴트는 기업의 인적, 물적 자원 및 모든 조건에 관련된 자료를 수집·분석...   \n",
              "1699      IT컨설턴트     450  - IT컨설턴트는 기업의 인적, 물적 자원 및 모든 조건에 관련된 자료를 수집·분석...   \n",
              "1700      IT컨설턴트     450  - IT컨설턴트는 기업의 인적, 물적 자원 및 모든 조건에 관련된 자료를 수집·분석...   \n",
              "1701      IT컨설턴트     450  - IT컨설턴트는 기업의 인적, 물적 자원 및 모든 조건에 관련된 자료를 수집·분석...   \n",
              "\n",
              "                                            preparation  \\\n",
              "0     - 가구제조, 수리원이 되기 위해서는 학력에 제한은 없으나, 입직 후 입직 후 업무...   \n",
              "1           - 가구조립 및 검사원이 되기 위해서는 고등학교 졸업 이상의 학력이 요구된다.   \n",
              "2                       - 가사도우미가 되기 위해 요구되는 학력의 제한은 없다.   \n",
              "3     - 가상현실전문가가 되기 위해서는 전문대 및 대학교에서 전자공학과, 정보통신공학과,...   \n",
              "4     - 가상현실전문가가 되기 위해서는 전문대 및 대학교에서 전자공학과, 정보통신공학과,...   \n",
              "...                                                 ...   \n",
              "1697  - IT컨설턴트가 되기 위해서는 대학이나 대학원, 전문대학에서 전자공학, 컴퓨터공학...   \n",
              "1698  - IT컨설턴트가 되기 위해서는 대학이나 대학원, 전문대학에서 전자공학, 컴퓨터공학...   \n",
              "1699  - IT컨설턴트가 되기 위해서는 대학이나 대학원, 전문대학에서 전자공학, 컴퓨터공학...   \n",
              "1700  - IT컨설턴트가 되기 위해서는 대학이나 대학원, 전문대학에서 전자공학, 컴퓨터공학...   \n",
              "1701  - IT컨설턴트가 되기 위해서는 대학이나 대학원, 전문대학에서 전자공학, 컴퓨터공학...   \n",
              "\n",
              "                                  required_certificates    major  major_code  \n",
              "0                                       가구제작기능사, 목공예기능사      NaN         NaN  \n",
              "1                                       가구제작기능사, 목공예기능사      NaN         NaN  \n",
              "2                                                   NaN      NaN         NaN  \n",
              "3              정보처리기사, 시각디자인산업기사, 시각디자인기사, 컴퓨터그래픽스운용기능사   컴퓨터공학과       569.0  \n",
              "4              정보처리기사, 시각디자인산업기사, 시각디자인기사, 컴퓨터그래픽스운용기능사   컴퓨터과학과       570.0  \n",
              "...                                                 ...      ...         ...  \n",
              "1697  정보처리기능사, 정보처리산업기사, 정보처리기사, 정보관리기술사, 정보통신산업기사, ...     경영학과        23.0  \n",
              "1698  정보처리기능사, 정보처리산업기사, 정보처리기사, 정보관리기술사, 정보통신산업기사, ...   스마트정보과       489.0  \n",
              "1699  정보처리기능사, 정보처리산업기사, 정보처리기사, 정보관리기술사, 정보통신산업기사, ...  인터넷정보학과       486.0  \n",
              "1700  정보처리기능사, 정보처리산업기사, 정보처리기사, 정보관리기술사, 정보통신산업기사, ...  정보통신공학과       490.0  \n",
              "1701  정보처리기능사, 정보처리산업기사, 정보처리기사, 정보관리기술사, 정보통신산업기사, ...    정보통신과       491.0  \n",
              "\n",
              "[1702 rows x 7 columns]"
            ]
          },
          "execution_count": 10,
          "metadata": {},
          "output_type": "execute_result"
        }
      ],
      "source": [
        "df = pd.read_csv('/home/seongyeub/2022/KT_Project/KT_Edu/job_map/data_analysis/job_data.csv')\n",
        "df"
      ]
    },
    {
      "cell_type": "code",
      "execution_count": 11,
      "metadata": {
        "colab": {
          "base_uri": "https://localhost:8080/",
          "height": 206
        },
        "id": "lJfRUtTqcCnR",
        "outputId": "d6ffa446-d5a8-4885-a54d-6149c670301b"
      },
      "outputs": [
        {
          "data": {
            "text/html": [
              "<div>\n",
              "<style scoped>\n",
              "    .dataframe tbody tr th:only-of-type {\n",
              "        vertical-align: middle;\n",
              "    }\n",
              "\n",
              "    .dataframe tbody tr th {\n",
              "        vertical-align: top;\n",
              "    }\n",
              "\n",
              "    .dataframe thead th {\n",
              "        text-align: right;\n",
              "    }\n",
              "</style>\n",
              "<table border=\"1\" class=\"dataframe\">\n",
              "  <thead>\n",
              "    <tr style=\"text-align: right;\">\n",
              "      <th></th>\n",
              "      <th>job</th>\n",
              "      <th>major</th>\n",
              "    </tr>\n",
              "  </thead>\n",
              "  <tbody>\n",
              "    <tr>\n",
              "      <th>1439</th>\n",
              "      <td>통계학연구원</td>\n",
              "      <td>수학과</td>\n",
              "    </tr>\n",
              "    <tr>\n",
              "      <th>1440</th>\n",
              "      <td>통계학연구원</td>\n",
              "      <td>통계학과</td>\n",
              "    </tr>\n",
              "  </tbody>\n",
              "</table>\n",
              "</div>"
            ],
            "text/plain": [
              "         job major\n",
              "1439  통계학연구원   수학과\n",
              "1440  통계학연구원  통계학과"
            ]
          },
          "execution_count": 11,
          "metadata": {},
          "output_type": "execute_result"
        }
      ],
      "source": [
        "df_job = df[['job', 'major']]\n",
        "df_job = df_job[df_job['job']=='통계학연구원']\n",
        "df_job"
      ]
    },
    {
      "cell_type": "code",
      "execution_count": 12,
      "metadata": {
        "id": "N5TnqEkid5lb"
      },
      "outputs": [
        {
          "data": {
            "text/html": [
              "<div>\n",
              "<style scoped>\n",
              "    .dataframe tbody tr th:only-of-type {\n",
              "        vertical-align: middle;\n",
              "    }\n",
              "\n",
              "    .dataframe tbody tr th {\n",
              "        vertical-align: top;\n",
              "    }\n",
              "\n",
              "    .dataframe thead th {\n",
              "        text-align: right;\n",
              "    }\n",
              "</style>\n",
              "<table border=\"1\" class=\"dataframe\">\n",
              "  <thead>\n",
              "    <tr style=\"text-align: right;\">\n",
              "      <th></th>\n",
              "      <th>major</th>\n",
              "      <th>subject_category</th>\n",
              "      <th>subject_details</th>\n",
              "    </tr>\n",
              "  </thead>\n",
              "  <tbody>\n",
              "    <tr>\n",
              "      <th>689</th>\n",
              "      <td>수학과</td>\n",
              "      <td>공통과목</td>\n",
              "      <td>수학, 사회, 정보, 과학</td>\n",
              "    </tr>\n",
              "    <tr>\n",
              "      <th>690</th>\n",
              "      <td>수학과</td>\n",
              "      <td>일반선택과목</td>\n",
              "      <td>수학교과 : 수학Ⅰ, 수학Ⅱ, 미적분, 확률과 통계, 사회교과 : 사회문화, 경제,...</td>\n",
              "    </tr>\n",
              "    <tr>\n",
              "      <th>691</th>\n",
              "      <td>수학과</td>\n",
              "      <td>진로선택과목</td>\n",
              "      <td>실용수학, 기하, 경제수학, 수학과제탐구, 물리학Ⅱ</td>\n",
              "    </tr>\n",
              "    <tr>\n",
              "      <th>692</th>\n",
              "      <td>수학과</td>\n",
              "      <td>전문교과Ⅰ</td>\n",
              "      <td>심화수학Ⅰ, 심화수학Ⅱ, 고급수학Ⅰ, 고급수학Ⅱ, 정보과학</td>\n",
              "    </tr>\n",
              "    <tr>\n",
              "      <th>693</th>\n",
              "      <td>수학과</td>\n",
              "      <td>전문교과Ⅱ</td>\n",
              "      <td>정보처리와 관리</td>\n",
              "    </tr>\n",
              "  </tbody>\n",
              "</table>\n",
              "</div>"
            ],
            "text/plain": [
              "    major subject_category                                    subject_details\n",
              "689   수학과             공통과목                                     수학, 사회, 정보, 과학\n",
              "690   수학과           일반선택과목  수학교과 : 수학Ⅰ, 수학Ⅱ, 미적분, 확률과 통계, 사회교과 : 사회문화, 경제,...\n",
              "691   수학과           진로선택과목                       실용수학, 기하, 경제수학, 수학과제탐구, 물리학Ⅱ\n",
              "692   수학과            전문교과Ⅰ                   심화수학Ⅰ, 심화수학Ⅱ, 고급수학Ⅰ, 고급수학Ⅱ, 정보과학\n",
              "693   수학과            전문교과Ⅱ                                           정보처리와 관리"
            ]
          },
          "execution_count": 12,
          "metadata": {},
          "output_type": "execute_result"
        }
      ],
      "source": [
        "df_subjects = pd.read_csv('/home/seongyeub/2022/KT_Project/KT_Edu/job_map/data_analysis/major_subject.csv')\n",
        "df_subjects = df_subjects.drop_duplicates()\n",
        "df_subjects = df_subjects[df_subjects['major']=='수학과']\n",
        "df_subjects"
      ]
    },
    {
      "cell_type": "code",
      "execution_count": 13,
      "metadata": {
        "colab": {
          "base_uri": "https://localhost:8080/",
          "height": 1000
        },
        "id": "oEGp35mlcO5S",
        "outputId": "0461254b-e6ef-4f9a-b637-04604302d180"
      },
      "outputs": [
        {
          "name": "stderr",
          "output_type": "stream",
          "text": [
            "/home/seongyeub/anaconda3/lib/python3.8/site-packages/IPython/core/pylabtools.py:151: UserWarning: Glyph 53685 (\\N{HANGUL SYLLABLE TONG}) missing from current font.\n",
            "  fig.canvas.print_figure(bytes_io, **kw)\n",
            "/home/seongyeub/anaconda3/lib/python3.8/site-packages/IPython/core/pylabtools.py:151: UserWarning: Glyph 44228 (\\N{HANGUL SYLLABLE GYE}) missing from current font.\n",
            "  fig.canvas.print_figure(bytes_io, **kw)\n",
            "/home/seongyeub/anaconda3/lib/python3.8/site-packages/IPython/core/pylabtools.py:151: UserWarning: Glyph 54617 (\\N{HANGUL SYLLABLE HAG}) missing from current font.\n",
            "  fig.canvas.print_figure(bytes_io, **kw)\n",
            "/home/seongyeub/anaconda3/lib/python3.8/site-packages/IPython/core/pylabtools.py:151: UserWarning: Glyph 50672 (\\N{HANGUL SYLLABLE YEON}) missing from current font.\n",
            "  fig.canvas.print_figure(bytes_io, **kw)\n",
            "/home/seongyeub/anaconda3/lib/python3.8/site-packages/IPython/core/pylabtools.py:151: UserWarning: Glyph 44396 (\\N{HANGUL SYLLABLE GU}) missing from current font.\n",
            "  fig.canvas.print_figure(bytes_io, **kw)\n",
            "/home/seongyeub/anaconda3/lib/python3.8/site-packages/IPython/core/pylabtools.py:151: UserWarning: Glyph 50896 (\\N{HANGUL SYLLABLE WEON}) missing from current font.\n",
            "  fig.canvas.print_figure(bytes_io, **kw)\n",
            "/home/seongyeub/anaconda3/lib/python3.8/site-packages/IPython/core/pylabtools.py:151: UserWarning: Glyph 49688 (\\N{HANGUL SYLLABLE SU}) missing from current font.\n",
            "  fig.canvas.print_figure(bytes_io, **kw)\n",
            "/home/seongyeub/anaconda3/lib/python3.8/site-packages/IPython/core/pylabtools.py:151: UserWarning: Glyph 44284 (\\N{HANGUL SYLLABLE GWA}) missing from current font.\n",
            "  fig.canvas.print_figure(bytes_io, **kw)\n"
          ]
        },
        {
          "data": {
            "image/png": "[encoded data removed]",
            "text/plain": [
              "<Figure size 5000x2000 with 1 Axes>"
            ]
          },
          "metadata": {},
          "output_type": "display_data"
        }
      ],
      "source": [
        "plt.figure(figsize=(50, 20))\n",
        "\n",
        "# 1. Create the graph\n",
        "g = nx.from_pandas_edgelist(df_job, source='job', target='major') \n",
        "\n",
        "# 2. Create a layout for our nodes \n",
        "layout = nx.spring_layout(g)\n",
        "nx.draw_networkx_labels(g, layout)\n",
        "plt.show()"
      ]
    }
  ],
  "metadata": {
    "colab": {
      "provenance": []
    },
    "kernelspec": {
      "display_name": "base",
      "language": "python",
      "name": "python3"
    },
    "language_info": {
      "codemirror_mode": {
        "name": "ipython",
        "version": 3
      },
      "file_extension": ".py",
      "mimetype": "text/x-python",
      "name": "python",
      "nbconvert_exporter": "python",
      "pygments_lexer": "ipython3",
      "version": "3.8.13"
    },
    "vscode": {
      "interpreter": {
        "hash": "77a398ccaad8da10de31fdc8c2b243c2179b73454df60ef7f3b3731bf46b3187"
      }
    }
  },
  "nbformat": 4,
  "nbformat_minor": 0
}
