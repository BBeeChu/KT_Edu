{
  "nbformat": 4,
  "nbformat_minor": 0,
  "metadata": {
    "colab": {
      "name": "deep_timeseries_models.ipynb",
      "private_outputs": true,
      "provenance": []
    },
    "kernelspec": {
      "name": "python3",
      "display_name": "Python 3"
    },
    "language_info": {
      "name": "python"
    },
    "accelerator": "GPU"
  },
  "cells": [
    {
      "cell_type": "code",
      "metadata": {
        "id": "jqzFRYjEdOxQ"
      },
      "source": [
        "import pandas as pd\n",
        "import numpy as np\n",
        "import tensorflow.keras as keras\n",
        "from functions import get_timeseries_table\n",
        "from keras import Input\n",
        "from keras import backend as K\n",
        "from keras import regularizers, optimizers\n",
        "from keras.layers import Dense, Dropout, ConvLSTM2D, Conv1D, \\\n",
        "AveragePooling1D\n",
        "\n",
        "from sklearn.model_selection import train_test_split"
      ],
      "execution_count": null,
      "outputs": []
    },
    {
      "cell_type": "markdown",
      "metadata": {
        "id": "dy5TWGhKoa3r"
      },
      "source": [
        "The below is thanks to [dokondr](https://stackoverflow.com/questions/45411902/how-to-use-f1-score-with-keras-model)"
      ]
    },
    {
      "cell_type": "code",
      "metadata": {
        "id": "uyTr0M5foZc8"
      },
      "source": [
        "def f1_score(y_true, y_pred):\n",
        "\n",
        "    # Count positive samples.\n",
        "    c1 = K.sum(K.round(K.clip(y_true * y_pred, 0, 1)))\n",
        "    c2 = K.sum(K.round(K.clip(y_pred, 0, 1)))\n",
        "    c3 = K.sum(K.round(K.clip(y_true, 0, 1)))\n",
        "\n",
        "    # If there are no true samples, fix the F1 score at 0.\n",
        "    if c3 == 0:\n",
        "        return 0\n",
        "\n",
        "    # How many selected items are relevant?\n",
        "    precision = c1 / c2\n",
        "\n",
        "    # How many relevant items are selected?\n",
        "    recall = c1 / c3\n",
        "\n",
        "    # Calculate f1_score\n",
        "    f1_score = 2 * (precision * recall) / (precision + recall)\n",
        "    return f1_score "
      ],
      "execution_count": null,
      "outputs": []
    },
    {
      "cell_type": "code",
      "metadata": {
        "id": "j8yTbGIPdXjW"
      },
      "source": [
        "df = get_timeseries_table(prediction_window=135, \n",
        "                          binary_labels=True, \n",
        "                          one_hot_modules=True)\n",
        "df"
      ],
      "execution_count": null,
      "outputs": []
    },
    {
      "cell_type": "code",
      "metadata": {
        "id": "LvzyNQR-oXj5"
      },
      "source": [
        "X = df.drop(columns='final_result')\n",
        "y = df['final_result']\n",
        "X_train, X_test, y_train, y_test = train_test_split(X, y, random_state=111, test_size=.1)\n",
        "X_t, X_val, y_t, y_val = train_test_split(X_train, y_train, random_state=111, test_size=.1)"
      ],
      "execution_count": null,
      "outputs": []
    },
    {
      "cell_type": "code",
      "metadata": {
        "id": "lfTKcEOEkt-U"
      },
      "source": [
        "l1 = 1e-4\n",
        "l2 = 1e-3\n",
        "bias = 1e-4\n",
        "dropout500=0.4\n",
        "dropout300=0.2\n",
        "dropout200=0.2\n",
        "\n",
        "model1 = keras.Sequential()\n",
        "model1.add(Input((X.shape[1])))\n",
        "model1.add(Dense(500, activation='relu', \n",
        "                 kernel_regularizer=regularizers.l1_l2(l1=l1, l2=l2),\n",
        "                 bias_regularizer=regularizers.l2(bias)))\n",
        "model1.add(Dropout(rate=dropout500))\n",
        "model1.add(Dense(500, activation='relu', \n",
        "                 kernel_regularizer=regularizers.l1_l2(l1=l1, l2=l2),\n",
        "                 bias_regularizer=regularizers.l2(bias)))\n",
        "model1.add(Dropout(rate=dropout500))\n",
        "model1.add(Dense(500, activation='relu', \n",
        "                 kernel_regularizer=regularizers.l1_l2(l1=l1, l2=l2),\n",
        "                 bias_regularizer=regularizers.l2(bias)))\n",
        "model1.add(Dense(500, activation='relu', \n",
        "                 kernel_regularizer=regularizers.l1_l2(l1=l1, l2=l2),\n",
        "                 bias_regularizer=regularizers.l2(bias)))\n",
        "model1.add(Dropout(rate=dropout500))\n",
        "model1.add(Dense(500, activation='relu', \n",
        "                 kernel_regularizer=regularizers.l1_l2(l1=l1, l2=l2),\n",
        "                 bias_regularizer=regularizers.l2(bias)))\n",
        "model1.add(Dropout(rate=dropout500))\n",
        "model1.add(Dense(500, activation='relu', \n",
        "                 kernel_regularizer=regularizers.l1_l2(l1=l1, l2=l2),\n",
        "                 bias_regularizer=regularizers.l2(bias)))\n",
        "model1.add(Dropout(rate=dropout500))\n",
        "model1.add(Dense(300, activation='relu', \n",
        "                 kernel_regularizer=regularizers.l1_l2(l1=l1, l2=l2),\n",
        "                 bias_regularizer=regularizers.l2(bias)))\n",
        "model1.add(Dropout(rate=dropout300))\n",
        "model1.add(Dense(300, activation='relu', \n",
        "                 kernel_regularizer=regularizers.l1_l2(l1=l1, l2=l2),\n",
        "                 bias_regularizer=regularizers.l2(bias)))\n",
        "model1.add(Dropout(rate=dropout300))\n",
        "model1.add(Dense(300, activation='relu', \n",
        "                 kernel_regularizer=regularizers.l1_l2(l1=l1, l2=l2),\n",
        "                 bias_regularizer=regularizers.l2(bias)))\n",
        "model1.add(Dropout(rate=dropout300))\n",
        "model1.add(Dense(200, activation='relu', \n",
        "                 kernel_regularizer=regularizers.l1_l2(l1=l1, l2=l2),\n",
        "                 bias_regularizer=regularizers.l2(bias)))\n",
        "model1.add(Dropout(rate=dropout200))\n",
        "model1.add(Dense(200, activation='relu', \n",
        "                 kernel_regularizer=regularizers.l1_l2(l1=l1, l2=l2),\n",
        "                 bias_regularizer=regularizers.l2(bias)))\n",
        "model1.add(Dropout(rate=dropout200))\n",
        "model1.add(Dense(200, activation='relu', \n",
        "                 kernel_regularizer=regularizers.l1_l2(l1=l1, l2=l2),\n",
        "                 bias_regularizer=regularizers.l2(bias)))\n",
        "model1.add(Dropout(rate=dropout200))\n",
        "model1.add(Dense(200, activation='relu', \n",
        "                 kernel_regularizer=regularizers.l1_l2(l1=l1, l2=l2),\n",
        "                 bias_regularizer=regularizers.l2(bias)))\n",
        "model1.add(Dropout(rate=dropout200))\n",
        "model1.add(Dense(200, activation='relu', \n",
        "                 kernel_regularizer=regularizers.l1_l2(l1=l1, l2=l2),\n",
        "                 bias_regularizer=regularizers.l2(bias)))\n",
        "model1.add(Dropout(rate=dropout200))\n",
        "model1.add(Dense(200, activation='relu', \n",
        "                 kernel_regularizer=regularizers.l1_l2(l1=l1, l2=l2),\n",
        "                 bias_regularizer=regularizers.l2(bias)))\n",
        "\n",
        "model1.add(Dense(1, activation='sigmoid'))\n",
        "\n",
        "optimizer = optimizers.Adamax()\n",
        "\n",
        "model1.compile(optimizer=optimizer, loss='binary_crossentropy',\n",
        "              metrics=['accuracy'])\n",
        "\n",
        "#class_balance = num(pass) / num(fail).  Use this to weight class 0.\n",
        "class_balance = sum(y_t == 1) / sum(y_t == 0)\n",
        "\n",
        "model1.fit(X_t, y_t,\n",
        "           batch_size = 200,\n",
        "           epochs = 50,\n",
        "           validation_data=(X_val, y_val),\n",
        "        #    class_weight = {1: 1.0,\n",
        "        #                    0: class_balance}\n",
        "           )"
      ],
      "execution_count": null,
      "outputs": []
    },
    {
      "cell_type": "code",
      "metadata": {
        "id": "pb45z1hpAW8X"
      },
      "source": [
        ""
      ],
      "execution_count": null,
      "outputs": []
    }
  ]
}